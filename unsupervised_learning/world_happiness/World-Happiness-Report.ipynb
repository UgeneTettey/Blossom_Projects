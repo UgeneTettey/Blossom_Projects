{
 "cells": [
  {
   "cell_type": "code",
   "execution_count": 1,
   "id": "aaa7560c-43ec-4989-8e19-6a9e90fc918e",
   "metadata": {},
   "outputs": [],
   "source": [
    "# import libraries\n",
    "import pandas as pd\n",
    "import numpy as np\n",
    "\n",
    "import matplotlib.pyplot as plt\n",
    "import seaborn as sns\n",
    "\n",
    "from sklearn.impute import SimpleImputer\n",
    "from sklearn.preprocessing import StandardScaler, LabelEncoder\n",
    "from sklearn.decomposition import PCA\n",
    "from sklearn.cluster import KMeans, AgglomerativeClustering\n",
    "from sklearn.metrics import silhouette_score\n",
    "from scipy.cluster.hierarchy import dendrogram, linkage\n",
    "\n",
    "import warnings\n",
    "warnings.filterwarnings('ignore')"
   ]
  },
  {
   "cell_type": "code",
   "execution_count": 2,
   "id": "420e7941-f015-49a1-8c90-a7777f9dd338",
   "metadata": {},
   "outputs": [
    {
     "data": {
      "text/plain": [
       "(1949, 11)"
      ]
     },
     "execution_count": 2,
     "metadata": {},
     "output_type": "execute_result"
    }
   ],
   "source": [
    "# load dataset\n",
    "wrld_df = pd.read_csv('world-happiness-report.csv')\n",
    "wrld_df.shape"
   ]
  },
  {
   "cell_type": "code",
   "execution_count": 3,
   "id": "b513273c-3a82-4fcb-bf9d-1293cd4c8e07",
   "metadata": {},
   "outputs": [
    {
     "data": {
      "text/html": [
       "<div>\n",
       "<style scoped>\n",
       "    .dataframe tbody tr th:only-of-type {\n",
       "        vertical-align: middle;\n",
       "    }\n",
       "\n",
       "    .dataframe tbody tr th {\n",
       "        vertical-align: top;\n",
       "    }\n",
       "\n",
       "    .dataframe thead th {\n",
       "        text-align: right;\n",
       "    }\n",
       "</style>\n",
       "<table border=\"1\" class=\"dataframe\">\n",
       "  <thead>\n",
       "    <tr style=\"text-align: right;\">\n",
       "      <th></th>\n",
       "      <th>Country name</th>\n",
       "      <th>year</th>\n",
       "      <th>Life Ladder</th>\n",
       "      <th>Log GDP per capita</th>\n",
       "      <th>Social support</th>\n",
       "      <th>Healthy life expectancy at birth</th>\n",
       "      <th>Freedom to make life choices</th>\n",
       "      <th>Generosity</th>\n",
       "      <th>Perceptions of corruption</th>\n",
       "      <th>Positive affect</th>\n",
       "      <th>Negative affect</th>\n",
       "    </tr>\n",
       "  </thead>\n",
       "  <tbody>\n",
       "    <tr>\n",
       "      <th>0</th>\n",
       "      <td>Afghanistan</td>\n",
       "      <td>2008</td>\n",
       "      <td>3.724</td>\n",
       "      <td>7.370</td>\n",
       "      <td>0.451</td>\n",
       "      <td>50.80</td>\n",
       "      <td>0.718</td>\n",
       "      <td>0.168</td>\n",
       "      <td>0.882</td>\n",
       "      <td>0.518</td>\n",
       "      <td>0.258</td>\n",
       "    </tr>\n",
       "    <tr>\n",
       "      <th>1</th>\n",
       "      <td>Afghanistan</td>\n",
       "      <td>2009</td>\n",
       "      <td>4.402</td>\n",
       "      <td>7.540</td>\n",
       "      <td>0.552</td>\n",
       "      <td>51.20</td>\n",
       "      <td>0.679</td>\n",
       "      <td>0.190</td>\n",
       "      <td>0.850</td>\n",
       "      <td>0.584</td>\n",
       "      <td>0.237</td>\n",
       "    </tr>\n",
       "    <tr>\n",
       "      <th>2</th>\n",
       "      <td>Afghanistan</td>\n",
       "      <td>2010</td>\n",
       "      <td>4.758</td>\n",
       "      <td>7.647</td>\n",
       "      <td>0.539</td>\n",
       "      <td>51.60</td>\n",
       "      <td>0.600</td>\n",
       "      <td>0.121</td>\n",
       "      <td>0.707</td>\n",
       "      <td>0.618</td>\n",
       "      <td>0.275</td>\n",
       "    </tr>\n",
       "    <tr>\n",
       "      <th>3</th>\n",
       "      <td>Afghanistan</td>\n",
       "      <td>2011</td>\n",
       "      <td>3.832</td>\n",
       "      <td>7.620</td>\n",
       "      <td>0.521</td>\n",
       "      <td>51.92</td>\n",
       "      <td>0.496</td>\n",
       "      <td>0.162</td>\n",
       "      <td>0.731</td>\n",
       "      <td>0.611</td>\n",
       "      <td>0.267</td>\n",
       "    </tr>\n",
       "    <tr>\n",
       "      <th>4</th>\n",
       "      <td>Afghanistan</td>\n",
       "      <td>2012</td>\n",
       "      <td>3.783</td>\n",
       "      <td>7.705</td>\n",
       "      <td>0.521</td>\n",
       "      <td>52.24</td>\n",
       "      <td>0.531</td>\n",
       "      <td>0.236</td>\n",
       "      <td>0.776</td>\n",
       "      <td>0.710</td>\n",
       "      <td>0.268</td>\n",
       "    </tr>\n",
       "  </tbody>\n",
       "</table>\n",
       "</div>"
      ],
      "text/plain": [
       "  Country name  year  Life Ladder  Log GDP per capita  Social support  \\\n",
       "0  Afghanistan  2008        3.724               7.370           0.451   \n",
       "1  Afghanistan  2009        4.402               7.540           0.552   \n",
       "2  Afghanistan  2010        4.758               7.647           0.539   \n",
       "3  Afghanistan  2011        3.832               7.620           0.521   \n",
       "4  Afghanistan  2012        3.783               7.705           0.521   \n",
       "\n",
       "   Healthy life expectancy at birth  Freedom to make life choices  Generosity  \\\n",
       "0                             50.80                         0.718       0.168   \n",
       "1                             51.20                         0.679       0.190   \n",
       "2                             51.60                         0.600       0.121   \n",
       "3                             51.92                         0.496       0.162   \n",
       "4                             52.24                         0.531       0.236   \n",
       "\n",
       "   Perceptions of corruption  Positive affect  Negative affect  \n",
       "0                      0.882            0.518            0.258  \n",
       "1                      0.850            0.584            0.237  \n",
       "2                      0.707            0.618            0.275  \n",
       "3                      0.731            0.611            0.267  \n",
       "4                      0.776            0.710            0.268  "
      ]
     },
     "execution_count": 3,
     "metadata": {},
     "output_type": "execute_result"
    }
   ],
   "source": [
    "# display first five rows of dataframe\n",
    "wrld_df.head()"
   ]
  },
  {
   "cell_type": "code",
   "execution_count": 4,
   "id": "fc6cc140-c8c1-4c55-8bfa-b260ceca3be9",
   "metadata": {},
   "outputs": [
    {
     "data": {
      "text/plain": [
       "Country name                          0\n",
       "year                                  0\n",
       "Life Ladder                           0\n",
       "Log GDP per capita                   36\n",
       "Social support                       13\n",
       "Healthy life expectancy at birth     55\n",
       "Freedom to make life choices         32\n",
       "Generosity                           89\n",
       "Perceptions of corruption           110\n",
       "Positive affect                      22\n",
       "Negative affect                      16\n",
       "dtype: int64"
      ]
     },
     "execution_count": 4,
     "metadata": {},
     "output_type": "execute_result"
    }
   ],
   "source": [
    "# check missing values\n",
    "wrld_df.isna().sum()"
   ]
  },
  {
   "cell_type": "code",
   "execution_count": 5,
   "id": "3185b644-08b9-43b9-b56d-34d110f65202",
   "metadata": {},
   "outputs": [
    {
     "data": {
      "text/plain": [
       "Country name                        0\n",
       "year                                0\n",
       "Life Ladder                         0\n",
       "Log GDP per capita                  0\n",
       "Social support                      0\n",
       "Healthy life expectancy at birth    0\n",
       "Freedom to make life choices        0\n",
       "Generosity                          0\n",
       "Perceptions of corruption           0\n",
       "Positive affect                     0\n",
       "Negative affect                     0\n",
       "dtype: int64"
      ]
     },
     "execution_count": 5,
     "metadata": {},
     "output_type": "execute_result"
    }
   ],
   "source": [
    "# filling missing values with mean\n",
    "cols_to_impute = [\"Log GDP per capita\",\"Social support\",\"Healthy life expectancy at birth\",\"Freedom to make life choices\", \"Generosity\",\"Perceptions of corruption\", \"Positive affect\", \"Negative affect\"]\n",
    "\n",
    "imputer = SimpleImputer(strategy='mean')\n",
    "for col in cols_to_impute:\n",
    "    wrld_df[col] = imputer.fit_transform(wrld_df[[col]])\n",
    "\n",
    "wrld_df.isna().sum()"
   ]
  },
  {
   "cell_type": "markdown",
   "id": "0a8ba7d3",
   "metadata": {},
   "source": [
    "*We drop the year column since it's not relevant to the clustering analysis which is focused on the countries' happiness-related metrics*"
   ]
  },
  {
   "cell_type": "code",
   "execution_count": 6,
   "id": "0a6e2c95",
   "metadata": {},
   "outputs": [],
   "source": [
    "# dropping year column.\n",
    "wrld_df = wrld_df.drop('year', axis=1)"
   ]
  },
  {
   "cell_type": "markdown",
   "id": "a7ffac8d",
   "metadata": {},
   "source": [
    "*Since we have multiple entries for each country over some years, we aggregate the data using the mean to obtain single record per country*"
   ]
  },
  {
   "cell_type": "code",
   "execution_count": 7,
   "id": "c113008e",
   "metadata": {},
   "outputs": [],
   "source": [
    "# aggregating using the mean...\n",
    "agg_wrld_df = wrld_df.groupby('Country name').mean().reset_index()"
   ]
  },
  {
   "cell_type": "code",
   "execution_count": 8,
   "id": "803fecb6",
   "metadata": {},
   "outputs": [],
   "source": [
    "# label ecoding for country names\n",
    "countries = agg_wrld_df['Country name']\n",
    "encoder = LabelEncoder()\n",
    "countries_encoded = encoder.fit_transform(countries)\n",
    "\n",
    "# reshape countries_encoeded\n",
    "countries_encoded = countries_encoded.reshape(-1,1)"
   ]
  },
  {
   "cell_type": "code",
   "execution_count": 9,
   "id": "a6cc23ed",
   "metadata": {},
   "outputs": [],
   "source": [
    "# features to use for clustering\n",
    "features = agg_wrld_df.columns.difference(['country_encoded', 'Country name'])  #select the dataset except country_encoded and country name\n",
    "\n",
    "# scaling the features\n",
    "scaler = StandardScaler()\n",
    "features_scaled = scaler.fit_transform(agg_wrld_df[features])"
   ]
  },
  {
   "cell_type": "code",
   "execution_count": 10,
   "id": "f9ba6ccc",
   "metadata": {},
   "outputs": [],
   "source": [
    "# concatenate scaled features and countries_encoded\n",
    "features_scaled_with_countries = np.concatenate((features_scaled, countries_encoded), axis = 1)"
   ]
  },
  {
   "cell_type": "markdown",
   "id": "a9a30f76",
   "metadata": {},
   "source": [
    "### Elbow Method for Silhouette Score (KMeans)"
   ]
  },
  {
   "cell_type": "code",
   "execution_count": 11,
   "id": "2f1a0939",
   "metadata": {},
   "outputs": [
    {
     "data": {
      "image/png": "[encoded data removed]",
      "text/plain": [
       "<Figure size 1000x600 with 1 Axes>"
      ]
     },
     "metadata": {},
     "output_type": "display_data"
    }
   ],
   "source": [
    "# silhouette score calculation\n",
    "silhouette_scores = []\n",
    "cluster_range = range(2, 16)\n",
    "\n",
    "for k in cluster_range:\n",
    "    kmeans = KMeans(n_clusters=k, random_state=42, n_init='auto')\n",
    "    kmeans_labels = kmeans.fit_predict(features_scaled_with_countries)\n",
    "    silhouette_scores.append(silhouette_score(features_scaled_with_countries, kmeans_labels))\n",
    "\n",
    "# plotting the scores\n",
    "plt.figure(figsize=(10,6))\n",
    "plt.plot(cluster_range, silhouette_scores, marker='x')\n",
    "plt.xlabel('number of clusters')\n",
    "plt.ylabel('silhouette score')\n",
    "plt.xticks(np.arange(2, 16, step=1))\n",
    "plt.title(\"Elbow KMeans using Silhouette scores\")\n",
    "plt.grid(True)\n",
    "plt.show()"
   ]
  },
  {
   "cell_type": "code",
   "execution_count": 12,
   "id": "b85371e8",
   "metadata": {},
   "outputs": [
    {
     "name": "stdout",
     "output_type": "stream",
     "text": [
      "Optimal numer of clusters:  2\n"
     ]
    }
   ],
   "source": [
    "# determine the optimal clusters\n",
    "optimal_clusters = silhouette_scores.index(max(silhouette_scores)) + 2\n",
    "print(\"Optimal numer of clusters: \", optimal_clusters)"
   ]
  },
  {
   "cell_type": "code",
   "execution_count": 13,
   "id": "bb5b12a1",
   "metadata": {},
   "outputs": [
    {
     "data": {
      "text/html": [
       "<div>\n",
       "<style scoped>\n",
       "    .dataframe tbody tr th:only-of-type {\n",
       "        vertical-align: middle;\n",
       "    }\n",
       "\n",
       "    .dataframe tbody tr th {\n",
       "        vertical-align: top;\n",
       "    }\n",
       "\n",
       "    .dataframe thead th {\n",
       "        text-align: right;\n",
       "    }\n",
       "</style>\n",
       "<table border=\"1\" class=\"dataframe\">\n",
       "  <thead>\n",
       "    <tr style=\"text-align: right;\">\n",
       "      <th></th>\n",
       "      <th>PC1</th>\n",
       "      <th>PC2</th>\n",
       "    </tr>\n",
       "  </thead>\n",
       "  <tbody>\n",
       "    <tr>\n",
       "      <th>0</th>\n",
       "      <td>82.516355</td>\n",
       "      <td>3.920009</td>\n",
       "    </tr>\n",
       "    <tr>\n",
       "      <th>1</th>\n",
       "      <td>81.506127</td>\n",
       "      <td>0.623194</td>\n",
       "    </tr>\n",
       "    <tr>\n",
       "      <th>2</th>\n",
       "      <td>80.503495</td>\n",
       "      <td>0.311045</td>\n",
       "    </tr>\n",
       "    <tr>\n",
       "      <th>3</th>\n",
       "      <td>79.512026</td>\n",
       "      <td>2.542149</td>\n",
       "    </tr>\n",
       "    <tr>\n",
       "      <th>4</th>\n",
       "      <td>78.496032</td>\n",
       "      <td>-1.692729</td>\n",
       "    </tr>\n",
       "    <tr>\n",
       "      <th>...</th>\n",
       "      <td>...</td>\n",
       "      <td>...</td>\n",
       "    </tr>\n",
       "    <tr>\n",
       "      <th>161</th>\n",
       "      <td>-78.500926</td>\n",
       "      <td>-0.484096</td>\n",
       "    </tr>\n",
       "    <tr>\n",
       "      <th>162</th>\n",
       "      <td>-79.502014</td>\n",
       "      <td>-0.007187</td>\n",
       "    </tr>\n",
       "    <tr>\n",
       "      <th>163</th>\n",
       "      <td>-80.489025</td>\n",
       "      <td>3.084582</td>\n",
       "    </tr>\n",
       "    <tr>\n",
       "      <th>164</th>\n",
       "      <td>-81.495120</td>\n",
       "      <td>1.966870</td>\n",
       "    </tr>\n",
       "    <tr>\n",
       "      <th>165</th>\n",
       "      <td>-82.495249</td>\n",
       "      <td>2.527971</td>\n",
       "    </tr>\n",
       "  </tbody>\n",
       "</table>\n",
       "<p>166 rows × 2 columns</p>\n",
       "</div>"
      ],
      "text/plain": [
       "           PC1       PC2\n",
       "0    82.516355  3.920009\n",
       "1    81.506127  0.623194\n",
       "2    80.503495  0.311045\n",
       "3    79.512026  2.542149\n",
       "4    78.496032 -1.692729\n",
       "..         ...       ...\n",
       "161 -78.500926 -0.484096\n",
       "162 -79.502014 -0.007187\n",
       "163 -80.489025  3.084582\n",
       "164 -81.495120  1.966870\n",
       "165 -82.495249  2.527971\n",
       "\n",
       "[166 rows x 2 columns]"
      ]
     },
     "execution_count": 13,
     "metadata": {},
     "output_type": "execute_result"
    }
   ],
   "source": [
    "# Apply PCA to reduce to 2 dimensions\n",
    "pca = PCA(n_components=2)\n",
    "pca_data = pca.fit_transform(features_scaled_with_countries)\n",
    "\n",
    "# Create a DataFrame for the PCA data\n",
    "pca_df = pd.DataFrame(data=pca_data, columns=['PC1', 'PC2'])\n",
    "pca_df"
   ]
  },
  {
   "cell_type": "markdown",
   "id": "0c696f00",
   "metadata": {},
   "source": [
    "### KMeans Clustering (with optimal clusters)"
   ]
  },
  {
   "cell_type": "code",
   "execution_count": 14,
   "id": "31b7f0ed",
   "metadata": {},
   "outputs": [
    {
     "name": "stdout",
     "output_type": "stream",
     "text": [
      "KMeans Silhouette score: 0.614988237163056\n"
     ]
    }
   ],
   "source": [
    "# KMeans with optimal number of clusters\n",
    "kmeans = KMeans(n_clusters=optimal_clusters, random_state=42, n_init='auto')\n",
    "kmeans_labels = kmeans.fit_predict(features_scaled_with_countries)\n",
    "\n",
    "# Silhouette score for KMeans\n",
    "kmeans_score = silhouette_score(features_scaled_with_countries, kmeans_labels)\n",
    "print(\"KMeans Silhouette score:\", kmeans_score)"
   ]
  },
  {
   "cell_type": "code",
   "execution_count": 15,
   "id": "866b0b33",
   "metadata": {},
   "outputs": [
    {
     "name": "stdout",
     "output_type": "stream",
     "text": [
      "PCA KMeans Silhouette score: 0.6184559036608107\n"
     ]
    }
   ],
   "source": [
    "# KMeans with PCA\n",
    "\n",
    "# KMeans with optimal number of clusters\n",
    "kmeans = KMeans(n_clusters=optimal_clusters, random_state=42, n_init='auto')\n",
    "kmeans_labels = kmeans.fit_predict(pca_data)\n",
    "\n",
    "# Silhouette score for KMeans\n",
    "kmeans_score = silhouette_score(pca_data, kmeans_labels)\n",
    "print(\"PCA KMeans Silhouette score:\", kmeans_score)"
   ]
  },
  {
   "cell_type": "markdown",
   "id": "c05698b3",
   "metadata": {},
   "source": [
    "### Analysis Section"
   ]
  },
  {
   "cell_type": "code",
   "execution_count": 16,
   "id": "b63730aa",
   "metadata": {},
   "outputs": [],
   "source": [
    "# add cluster labels to aggregated data\n",
    "agg_wrld_df['cluster'] = kmeans_labels"
   ]
  },
  {
   "cell_type": "markdown",
   "id": "c648e7f8",
   "metadata": {},
   "source": [
    "*We want to determine which of the clusters is happier by finding the total positive affect scores in each cluster*"
   ]
  },
  {
   "cell_type": "code",
   "execution_count": 30,
   "id": "8385f915",
   "metadata": {},
   "outputs": [
    {
     "name": "stdout",
     "output_type": "stream",
     "text": [
      "The happiest cluster is Cluster 0 with total Positive affect: 59.853773738760516\n"
     ]
    }
   ],
   "source": [
    "# Calculate total Positive affect per cluster for KMeans clustering\n",
    "positive_affect_per_cluster = agg_wrld_df.groupby('cluster')['Positive affect'].sum()\n",
    "\n",
    "# Determine the happiest KMeans cluster\n",
    "happiest_cluster = positive_affect_per_cluster.idxmax()\n",
    "happiest_value = positive_affect_per_cluster.max()\n",
    "\n",
    "print(f'The happiest cluster is Cluster {happiest_cluster} with total Positive affect: {happiest_value}')\n"
   ]
  },
  {
   "cell_type": "markdown",
   "id": "a44bc757",
   "metadata": {},
   "source": [
    "*Find the number of countries in cluster 0*"
   ]
  },
  {
   "cell_type": "code",
   "execution_count": 42,
   "id": "3c8356f9",
   "metadata": {},
   "outputs": [
    {
     "name": "stdout",
     "output_type": "stream",
     "text": [
      "Number of countries in cluster 0: 84\n",
      "Countries in cluster 0:...\n",
      "Lesotho\n",
      "Liberia\n",
      "Libya\n",
      "Lithuania\n",
      "Luxembourg\n",
      "Madagascar\n",
      "Malawi\n",
      "Malaysia\n",
      "Maldives\n",
      "Mali\n",
      "Malta\n",
      "Mauritania\n",
      "Mauritius\n",
      "Mexico\n",
      "Moldova\n",
      "Mongolia\n",
      "Montenegro\n",
      "Morocco\n",
      "Mozambique\n",
      "Myanmar\n",
      "Namibia\n",
      "Nepal\n",
      "Netherlands\n",
      "New Zealand\n",
      "Nicaragua\n",
      "Niger\n",
      "Nigeria\n",
      "North Cyprus\n",
      "North Macedonia\n",
      "Norway\n",
      "Oman\n",
      "Pakistan\n",
      "Palestinian Territories\n",
      "Panama\n",
      "Paraguay\n",
      "Peru\n",
      "Philippines\n",
      "Poland\n",
      "Portugal\n",
      "Qatar\n",
      "Romania\n",
      "Russia\n",
      "Rwanda\n",
      "Saudi Arabia\n",
      "Senegal\n",
      "Serbia\n",
      "Sierra Leone\n",
      "Singapore\n",
      "Slovakia\n",
      "Slovenia\n",
      "Somalia\n",
      "Somaliland region\n",
      "South Africa\n",
      "South Korea\n",
      "South Sudan\n",
      "Spain\n",
      "Sri Lanka\n",
      "Sudan\n",
      "Suriname\n",
      "Swaziland\n",
      "Sweden\n",
      "Switzerland\n",
      "Syria\n",
      "Taiwan Province of China\n",
      "Tajikistan\n",
      "Tanzania\n",
      "Thailand\n",
      "Togo\n",
      "Trinidad and Tobago\n",
      "Tunisia\n",
      "Turkey\n",
      "Turkmenistan\n",
      "Uganda\n",
      "Ukraine\n",
      "United Arab Emirates\n",
      "United Kingdom\n",
      "United States\n",
      "Uruguay\n",
      "Uzbekistan\n",
      "Venezuela\n",
      "Vietnam\n",
      "Yemen\n",
      "Zambia\n",
      "Zimbabwe\n"
     ]
    }
   ],
   "source": [
    "# Filter countries in the happiest cluster\n",
    "countries_in_cluster_0 = agg_wrld_df[agg_wrld_df['cluster'] == happiest_cluster]['Country name'].tolist()\n",
    "\n",
    "# display the number of happy countries from analysis\n",
    "num_of_countries = len(countries_in_cluster_0)\n",
    "print(f'Number of countries in cluster 0: {num_of_countries}')\n",
    "\n",
    "# Print the countries\n",
    "print(f'Countries in cluster 0:...')\n",
    "for country in countries_in_cluster_0:\n",
    "    print(country)\n"
   ]
  },
  {
   "cell_type": "markdown",
   "id": "8c568e72",
   "metadata": {},
   "source": [
    "*Example case: check if Ghana is in cluster 0*"
   ]
  },
  {
   "cell_type": "code",
   "execution_count": 39,
   "id": "0e13e5f2",
   "metadata": {},
   "outputs": [
    {
     "name": "stdout",
     "output_type": "stream",
     "text": [
      "Ghana is not in Cluster 0\n"
     ]
    }
   ],
   "source": [
    "country_to_check = 'Ghana'\n",
    "\n",
    "# Filter and check if the country is in the specified KMeans cluster\n",
    "is_in_cluster = agg_wrld_df[(agg_wrld_df['cluster'] == happiest_cluster) & (agg_wrld_df['Country name'] == country_to_check)].shape[0] > 0\n",
    "\n",
    "if is_in_cluster:\n",
    "    print(f'{country_to_check} is in Cluster {happiest_cluster}')\n",
    "else:\n",
    "    print(f'{country_to_check} is not in Cluster {happiest_cluster}')"
   ]
  },
  {
   "cell_type": "code",
   "execution_count": 40,
   "id": "207b1d57",
   "metadata": {},
   "outputs": [
    {
     "data": {
      "image/png": "[encoded data removed]",
      "text/plain": [
       "<Figure size 1000x600 with 1 Axes>"
      ]
     },
     "metadata": {},
     "output_type": "display_data"
    }
   ],
   "source": [
    "# top 5 countries in cluster 0\n",
    "\n",
    "# Filter the DataFrame for Cluster 0\n",
    "cluster0_df = agg_wrld_df[agg_wrld_df['cluster'] == happiest_cluster]\n",
    "\n",
    "# Sort the DataFrame by 'Positive affect' in descending order to get top 5 countries\n",
    "top_5_countries = cluster0_df.nlargest(5, 'Positive affect')\n",
    "\n",
    "# Visualize the top 5 countries by positive affect score\n",
    "plt.figure(figsize=(10, 6))\n",
    "sns.barplot(x='Positive affect', y='Country name', data=top_5_countries, palette='viridis')\n",
    "plt.title(f'Top 5 Countries in Cluster {happiest_cluster} by Positive Affect Score')\n",
    "plt.xlabel('Positive Affect Score')\n",
    "plt.ylabel('Country')\n",
    "plt.show()"
   ]
  },
  {
   "cell_type": "markdown",
   "id": "1d1ec9b2",
   "metadata": {},
   "source": [
    "*Find the total positive affect in cluster 1 as well as the number of countries*"
   ]
  },
  {
   "cell_type": "code",
   "execution_count": 45,
   "id": "0dae6827",
   "metadata": {},
   "outputs": [
    {
     "name": "stdout",
     "output_type": "stream",
     "text": [
      "Total Positive affect in cluster 1: 57.768436820329526\n",
      "Number of countries in cluster 1: 82\n",
      "Countries in cluster 1:...\n",
      "Afghanistan\n",
      "Albania\n",
      "Algeria\n",
      "Angola\n",
      "Argentina\n",
      "Armenia\n",
      "Australia\n",
      "Austria\n",
      "Azerbaijan\n",
      "Bahrain\n",
      "Bangladesh\n",
      "Belarus\n",
      "Belgium\n",
      "Belize\n",
      "Benin\n",
      "Bhutan\n",
      "Bolivia\n",
      "Bosnia and Herzegovina\n",
      "Botswana\n",
      "Brazil\n",
      "Bulgaria\n",
      "Burkina Faso\n",
      "Burundi\n",
      "Cambodia\n",
      "Cameroon\n",
      "Canada\n",
      "Central African Republic\n",
      "Chad\n",
      "Chile\n",
      "China\n",
      "Colombia\n",
      "Comoros\n",
      "Congo (Brazzaville)\n",
      "Congo (Kinshasa)\n",
      "Costa Rica\n",
      "Croatia\n",
      "Cuba\n",
      "Cyprus\n",
      "Czech Republic\n",
      "Denmark\n",
      "Djibouti\n",
      "Dominican Republic\n",
      "Ecuador\n",
      "Egypt\n",
      "El Salvador\n",
      "Estonia\n",
      "Ethiopia\n",
      "Finland\n",
      "France\n",
      "Gabon\n",
      "Gambia\n",
      "Georgia\n",
      "Germany\n",
      "Ghana\n",
      "Greece\n",
      "Guatemala\n",
      "Guinea\n",
      "Guyana\n",
      "Haiti\n",
      "Honduras\n",
      "Hong Kong S.A.R. of China\n",
      "Hungary\n",
      "Iceland\n",
      "India\n",
      "Indonesia\n",
      "Iran\n",
      "Iraq\n",
      "Ireland\n",
      "Israel\n",
      "Italy\n",
      "Ivory Coast\n",
      "Jamaica\n",
      "Japan\n",
      "Jordan\n",
      "Kazakhstan\n",
      "Kenya\n",
      "Kosovo\n",
      "Kuwait\n",
      "Kyrgyzstan\n",
      "Laos\n",
      "Latvia\n",
      "Lebanon\n"
     ]
    }
   ],
   "source": [
    "# Filter countries in the other cluster\n",
    "cluster_1 = 1\n",
    "countries_in_cluster_1 = agg_wrld_df[agg_wrld_df['cluster'] == cluster_1]['Country name'].tolist()\n",
    "\n",
    "# Calculate total Positive affect for Cluster 1\n",
    "total_positive_affect_cluster_1 = agg_wrld_df[agg_wrld_df['cluster'] == cluster_1]['Positive affect'].sum()\n",
    "print(f'Total Positive affect in cluster {cluster_1}: {total_positive_affect_cluster_1}')\n",
    "\n",
    "# display the number of happy countries from analysis\n",
    "num_of_countries = len(countries_in_cluster_1)\n",
    "print(f'Number of countries in cluster 1: {num_of_countries}')\n",
    "\n",
    "# Print the countries\n",
    "print(f'Countries in cluster 1:...')\n",
    "for country in countries_in_cluster_1:\n",
    "    print(country)"
   ]
  },
  {
   "cell_type": "code",
   "execution_count": 54,
   "id": "c15cf790",
   "metadata": {},
   "outputs": [
    {
     "data": {
      "image/png": "[encoded data removed]",
      "text/plain": [
       "<Figure size 1000x600 with 1 Axes>"
      ]
     },
     "metadata": {},
     "output_type": "display_data"
    }
   ],
   "source": [
    "# top 5 countries in cluster 1\n",
    "\n",
    "# Filter the DataFrame for Cluster 0\n",
    "cluster1_df = agg_wrld_df[agg_wrld_df['cluster'] == cluster_1]\n",
    "\n",
    "# Sort the DataFrame by 'Positive affect' in descending order to get top 5 countries\n",
    "cluster_1_top_5_countries = cluster1_df.nlargest(5, 'Positive affect')\n",
    "\n",
    "# Visualize the top 5 countries by positive affect score\n",
    "plt.figure(figsize=(10, 6))\n",
    "sns.barplot(x='Positive affect', y='Country name', data=cluster_1_top_5_countries, palette='viridis')\n",
    "plt.title(f'Top 5 Countries in Cluster {cluster_1} by Positive Affect Score')\n",
    "plt.xlabel('Positive Affect Score')\n",
    "plt.ylabel('Country')\n",
    "plt.show()"
   ]
  },
  {
   "cell_type": "code",
   "execution_count": null,
   "id": "9f90cebb",
   "metadata": {},
   "outputs": [],
   "source": []
  },
  {
   "cell_type": "markdown",
   "id": "5502af45",
   "metadata": {},
   "source": [
    "## Conclusion"
   ]
  },
  {
   "cell_type": "markdown",
   "id": "87147635",
   "metadata": {},
   "source": [
    "*Cluster 0*, comprising 84 countries has on **average**, a higher positive affect score than that of *Cluster 1* based on all features considered.  \n",
    "**Future Work:** Further analysis into features/factors that most influence happiness scores across countries"
   ]
  }
 ],
 "metadata": {
  "kernelspec": {
   "display_name": "Python 3 (ipykernel)",
   "language": "python",
   "name": "python3"
  },
  "language_info": {
   "codemirror_mode": {
    "name": "ipython",
    "version": 3
   },
   "file_extension": ".py",
   "mimetype": "text/x-python",
   "name": "python",
   "nbconvert_exporter": "python",
   "pygments_lexer": "ipython3",
   "version": "3.11.7"
  }
 },
 "nbformat": 4,
 "nbformat_minor": 5
}
