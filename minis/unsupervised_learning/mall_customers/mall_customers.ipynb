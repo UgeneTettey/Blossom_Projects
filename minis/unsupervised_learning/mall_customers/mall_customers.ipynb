{
 "cells": [
  {
   "cell_type": "markdown",
   "metadata": {
    "id": "KxYHoD18TrrF"
   },
   "source": [
    "## **Mall Customer Segmentation Dataset**\n",
    "\n",
    "### **Target:**\n",
    "The target of this project is to apply K-means clustering to group customers into distinct segments based on their age, gender, annual income, and spending score. By doing so, one aim to:\n",
    "- Identify clusters of customers with similar purchasing behaviors.\n",
    "- Determine which customer segments are most receptive to marketing strategies.\n",
    "- Optimize marketing efforts to improve customer engagement and satisfaction.\n",
    "  \n"
   ]
  },
  {
   "cell_type": "code",
   "execution_count": 1,
   "metadata": {
    "id": "PXyfKrnfsb3z"
   },
   "outputs": [],
   "source": [
    "# importing libraries\n",
    "import pandas as pd\n",
    "import numpy as np\n",
    "import matplotlib.pyplot as plt\n",
    "from sklearn.cluster import KMeans\n",
    "from sklearn.preprocessing import StandardScaler, OneHotEncoder\n",
    "from sklearn.decomposition import PCA\n",
    "from sklearn.metrics import silhouette_score, davies_bouldin_score, calinski_harabasz_score\n",
    "import warnings\n",
    "warnings.filterwarnings('ignore')"
   ]
  },
  {
   "cell_type": "code",
   "execution_count": 2,
   "metadata": {
    "id": "HT8FozZ_VZCz"
   },
   "outputs": [],
   "source": [
    "# Load your data\n",
    "data = pd.read_csv('Mall_customers.csv')"
   ]
  },
  {
   "cell_type": "code",
   "execution_count": 3,
   "metadata": {
    "colab": {
     "base_uri": "https://localhost:8080/",
     "height": 206
    },
    "id": "7ao4u6rzvb3O",
    "outputId": "f59e63fd-90d5-47a3-da5d-b67ad0289f0d"
   },
   "outputs": [
    {
     "data": {
      "text/html": [
       "<div>\n",
       "<style scoped>\n",
       "    .dataframe tbody tr th:only-of-type {\n",
       "        vertical-align: middle;\n",
       "    }\n",
       "\n",
       "    .dataframe tbody tr th {\n",
       "        vertical-align: top;\n",
       "    }\n",
       "\n",
       "    .dataframe thead th {\n",
       "        text-align: right;\n",
       "    }\n",
       "</style>\n",
       "<table border=\"1\" class=\"dataframe\">\n",
       "  <thead>\n",
       "    <tr style=\"text-align: right;\">\n",
       "      <th></th>\n",
       "      <th>CustomerID</th>\n",
       "      <th>Gender</th>\n",
       "      <th>Age</th>\n",
       "      <th>Annual Income (k$)</th>\n",
       "      <th>Spending Score (1-100)</th>\n",
       "    </tr>\n",
       "  </thead>\n",
       "  <tbody>\n",
       "    <tr>\n",
       "      <th>0</th>\n",
       "      <td>1</td>\n",
       "      <td>Male</td>\n",
       "      <td>19</td>\n",
       "      <td>15</td>\n",
       "      <td>39</td>\n",
       "    </tr>\n",
       "    <tr>\n",
       "      <th>1</th>\n",
       "      <td>2</td>\n",
       "      <td>Male</td>\n",
       "      <td>21</td>\n",
       "      <td>15</td>\n",
       "      <td>81</td>\n",
       "    </tr>\n",
       "    <tr>\n",
       "      <th>2</th>\n",
       "      <td>3</td>\n",
       "      <td>Female</td>\n",
       "      <td>20</td>\n",
       "      <td>16</td>\n",
       "      <td>6</td>\n",
       "    </tr>\n",
       "    <tr>\n",
       "      <th>3</th>\n",
       "      <td>4</td>\n",
       "      <td>Female</td>\n",
       "      <td>23</td>\n",
       "      <td>16</td>\n",
       "      <td>77</td>\n",
       "    </tr>\n",
       "    <tr>\n",
       "      <th>4</th>\n",
       "      <td>5</td>\n",
       "      <td>Female</td>\n",
       "      <td>31</td>\n",
       "      <td>17</td>\n",
       "      <td>40</td>\n",
       "    </tr>\n",
       "  </tbody>\n",
       "</table>\n",
       "</div>"
      ],
      "text/plain": [
       "   CustomerID  Gender  Age  Annual Income (k$)  Spending Score (1-100)\n",
       "0           1    Male   19                  15                      39\n",
       "1           2    Male   21                  15                      81\n",
       "2           3  Female   20                  16                       6\n",
       "3           4  Female   23                  16                      77\n",
       "4           5  Female   31                  17                      40"
      ]
     },
     "execution_count": 3,
     "metadata": {},
     "output_type": "execute_result"
    }
   ],
   "source": [
    "# Inspect the data\n",
    "data.head()\n",
    "\n",
    "\n"
   ]
  },
  {
   "cell_type": "code",
   "execution_count": 4,
   "metadata": {
    "id": "-KQpjnAZvhFO"
   },
   "outputs": [],
   "source": [
    "# Identify categorical and numerical columns\n",
    "categorical_cols = data.select_dtypes(include=['object']).columns.tolist()   #put the columns into a list\n",
    "numerical_cols = data.select_dtypes(include=['float', 'int']).columns.tolist()\n",
    "\n"
   ]
  },
  {
   "cell_type": "code",
   "execution_count": 5,
   "metadata": {
    "colab": {
     "base_uri": "https://localhost:8080/"
    },
    "id": "khPnaTr4vb5a",
    "outputId": "e254ca96-9741-4d7d-f677-41e223425060"
   },
   "outputs": [
    {
     "name": "stdout",
     "output_type": "stream",
     "text": [
      "     Gender_Female  Gender_Male\n",
      "0              0.0          1.0\n",
      "1              0.0          1.0\n",
      "2              1.0          0.0\n",
      "3              1.0          0.0\n",
      "4              1.0          0.0\n",
      "..             ...          ...\n",
      "195            1.0          0.0\n",
      "196            1.0          0.0\n",
      "197            0.0          1.0\n",
      "198            0.0          1.0\n",
      "199            0.0          1.0\n",
      "\n",
      "[200 rows x 2 columns]\n"
     ]
    }
   ],
   "source": [
    "# One-hot encode the categorical columns\n",
    "ohe = OneHotEncoder()\n",
    "encoded_categorical_data = ohe.fit_transform(data[categorical_cols]).toarray()\n",
    "encoded_categorical_df = pd.DataFrame(encoded_categorical_data, columns=ohe.get_feature_names_out(categorical_cols))\n",
    "print(encoded_categorical_df)\n",
    "\n",
    "\n",
    "\n"
   ]
  },
  {
   "cell_type": "code",
   "execution_count": 6,
   "metadata": {
    "id": "koHnh7aIvb9a"
   },
   "outputs": [],
   "source": [
    "# Standard scale the numerical columns\n",
    "scaler = StandardScaler()\n",
    "scaled_numerical_data = scaler.fit_transform(data[numerical_cols])\n",
    "scaled_numerical_df = pd.DataFrame(scaled_numerical_data, columns=numerical_cols)\n",
    "\n"
   ]
  },
  {
   "cell_type": "code",
   "execution_count": 7,
   "metadata": {
    "id": "3OgYHT8nv05G"
   },
   "outputs": [],
   "source": [
    "# Combine the processed numerical and categorical data\n",
    "processed_data = pd.concat([scaled_numerical_df, encoded_categorical_df], axis=1)\n",
    "\n"
   ]
  },
  {
   "cell_type": "code",
   "execution_count": 8,
   "metadata": {
    "id": "lN2UTHbpv07a"
   },
   "outputs": [],
   "source": [
    "# Apply the KMeans algorithm and evaluate using the elbow method and silhouette score\n",
    "inertia = []\n",
    "silhouette_scores = []\n",
    "davies_bouldin_scores = []\n",
    "calinski_harabasz_scores = []\n",
    "\n",
    "K = range(2, 11)  # Starting from 2 because silhouette score is not defined for k=1\n",
    "\n",
    "for k in K:\n",
    "    kmeans = KMeans(n_clusters=k, random_state=42)\n",
    "    kmeans.fit(processed_data)\n",
    "    inertia.append(kmeans.inertia_)\n",
    "    silhouette_scores.append(silhouette_score(processed_data, kmeans.labels_))\n",
    "    davies_bouldin_scores.append(davies_bouldin_score(processed_data, kmeans.labels_))\n",
    "    calinski_harabasz_scores.append(calinski_harabasz_score(processed_data, kmeans.labels_))\n",
    "\n"
   ]
  },
  {
   "cell_type": "code",
   "execution_count": 9,
   "metadata": {
    "colab": {
     "base_uri": "https://localhost:8080/",
     "height": 494
    },
    "id": "h8oP_fZVwIWs",
    "outputId": "4a7bc493-aeab-4327-86de-0168cbdea364"
   },
   "outputs": [
    {
     "data": {
      "image/png": "[encoded data removed]",
      "text/plain": [
       "<Figure size 864x360 with 2 Axes>"
      ]
     },
     "metadata": {
      "needs_background": "light"
     },
     "output_type": "display_data"
    }
   ],
   "source": [
    "# Plot the elbow method\n",
    "plt.figure(figsize=(12, 5))\n",
    "\n",
    "plt.subplot(1, 2, 1)\n",
    "plt.plot(K, inertia, 'bx-')\n",
    "plt.xlabel('Number of clusters')\n",
    "plt.ylabel('Inertia')\n",
    "plt.title('Elbow Method For Optimal k')\n",
    "\n",
    "# Plot the silhouette scores\n",
    "plt.subplot(1, 2, 2)\n",
    "plt.plot(K, silhouette_scores, 'bx-')\n",
    "plt.xlabel('Number of clusters')\n",
    "plt.ylabel('Silhouette Score')\n",
    "plt.title('Silhouette Score For Optimal k')\n",
    "\n",
    "plt.tight_layout()\n",
    "plt.show()\n",
    "\n"
   ]
  },
  {
   "cell_type": "markdown",
   "metadata": {},
   "source": [
    "**from the graphs: elbow method and silhouette score, the cluser with the highest**"
   ]
  },
  {
   "cell_type": "code",
   "execution_count": 11,
   "metadata": {
    "colab": {
     "base_uri": "https://localhost:8080/"
    },
    "id": "7lJZJ3RIwIZ3",
    "outputId": "89fd977c-d8aa-4bf5-8e90-7a918e724ac4"
   },
   "outputs": [
    {
     "name": "stdout",
     "output_type": "stream",
     "text": [
      "The optimal number of clusters based on silhouette score is: 9\n",
      "Final Inertia: 196.8689983473076\n",
      "Final Silhouette Score: 0.34199345177333496\n",
      "Final Davies-Bouldin Index: 0.9910226583015422\n",
      "Final Calinski-Harabasz Index: 85.09655052393444\n"
     ]
    }
   ],
   "source": [
    "# Determine the best number of clusters using the silhouette score\n",
    "optimal_k = K[np.argmax(silhouette_scores)]\n",
    "print(f\"The optimal number of clusters based on silhouette score is: {optimal_k}\")\n",
    "\n",
    "# Fit the final KMeans model with the optimal number of clusters\n",
    "kmeans_optimal = KMeans(n_clusters=optimal_k, random_state=42)\n",
    "kmeans_optimal.fit(processed_data)\n",
    "\n",
    "# Add the cluster labels to the original data\n",
    "data['Cluster'] = kmeans_optimal.labels_\n",
    "\n",
    "# Evaluate the final clustering\n",
    "final_inertia = kmeans_optimal.inertia_\n",
    "final_silhouette_score = silhouette_score(processed_data, kmeans_optimal.labels_)\n",
    "final_davies_bouldin_score = davies_bouldin_score(processed_data, kmeans_optimal.labels_)\n",
    "final_calinski_harabasz_score = calinski_harabasz_score(processed_data, kmeans_optimal.labels_)\n",
    "\n",
    "print(f\"Final Inertia: {final_inertia}\")\n",
    "print(f\"Final Silhouette Score: {final_silhouette_score}\")\n",
    "print(f\"Final Davies-Bouldin Index: {final_davies_bouldin_score}\")\n",
    "print(f\"Final Calinski-Harabasz Index: {final_calinski_harabasz_score}\")\n"
   ]
  },
  {
   "cell_type": "code",
   "execution_count": 12,
   "metadata": {
    "id": "sbrWHblsv0_C"
   },
   "outputs": [],
   "source": [
    "# Use PCA for dimensionality reduction\n",
    "\n",
    "# Apply PCA and keep the top 2 principal components\n",
    "pca = PCA(n_components=2)\n",
    "pca_data = pca.fit_transform(processed_data)\n",
    "\n",
    "# Apply KMeans on the reduced data\n",
    "inertia_pca = []\n",
    "silhouette_scores_pca = []\n",
    "\n",
    "for k in K:\n",
    "    kmeans = KMeans(n_clusters=k, random_state=42)\n",
    "    kmeans.fit(pca_data)\n",
    "    inertia_pca.append(kmeans.inertia_)\n",
    "    silhouette_scores_pca.append(silhouette_score(pca_data, kmeans.labels_))\n",
    "    silhouette_scores.append(silhouette_score(processed_data, kmeans.labels_))\n",
    "    davies_bouldin_scores.append(davies_bouldin_score(processed_data, kmeans.labels_))\n",
    "    calinski_harabasz_scores.append(calinski_harabasz_score(processed_data, kmeans.labels_))\n"
   ]
  },
  {
   "cell_type": "code",
   "execution_count": 13,
   "metadata": {
    "colab": {
     "base_uri": "https://localhost:8080/",
     "height": 494
    },
    "id": "8EJv3SxLwcnh",
    "outputId": "2092b2df-3b4c-40d8-a987-a8294668a0b5"
   },
   "outputs": [
    {
     "data": {
      "image/png": "[encoded data removed]",
      "text/plain": [
       "<Figure size 864x360 with 2 Axes>"
      ]
     },
     "metadata": {
      "needs_background": "light"
     },
     "output_type": "display_data"
    }
   ],
   "source": [
    "# Plot the elbow method for PCA data\n",
    "plt.figure(figsize=(12, 5))\n",
    "\n",
    "plt.subplot(1, 2, 1)\n",
    "plt.plot(K, inertia_pca, 'bx-')\n",
    "plt.xlabel('Number of clusters')\n",
    "plt.ylabel('Inertia')\n",
    "plt.title('Elbow Method For Optimal k (PCA Data)')\n",
    "\n",
    "# Plot the silhouette scores for PCA data\n",
    "plt.subplot(1, 2, 2)\n",
    "plt.plot(K, silhouette_scores_pca, 'bx-')\n",
    "plt.xlabel('Number of clusters')\n",
    "plt.ylabel('Silhouette Score')\n",
    "plt.title('Silhouette Score For Optimal k (PCA Data)')\n",
    "\n",
    "plt.tight_layout()\n",
    "plt.show()\n",
    "\n"
   ]
  },
  {
   "cell_type": "code",
   "execution_count": 14,
   "metadata": {
    "colab": {
     "base_uri": "https://localhost:8080/"
    },
    "id": "oQZKAGeUwcqF",
    "outputId": "07240a58-2a74-4308-81f1-d081c77d4b75"
   },
   "outputs": [
    {
     "name": "stdout",
     "output_type": "stream",
     "text": [
      "The optimal number of clusters based on silhouette score for PCA data is: 4\n",
      "Final Inertia (PCA): 169.22354670559045\n",
      "Final Silhouette Score (PCA): 0.4411725854112817\n",
      "Final Davies-Bouldin Index (PCA): 0.7574360995703254\n",
      "Final Calinski-Harabasz Index (PCA): 190.35345533875557\n"
     ]
    }
   ],
   "source": [
    "# Determine the best number of clusters using the silhouette score for PCA data\n",
    "optimal_k_pca = K[np.argmax(silhouette_scores_pca)]\n",
    "print(f\"The optimal number of clusters based on silhouette score for PCA data is: {optimal_k_pca}\")\n",
    "\n",
    "# Fit the final KMeans model with the optimal number of clusters on PCA data\n",
    "kmeans_optimal_pca = KMeans(n_clusters=optimal_k_pca, random_state=42)\n",
    "kmeans_optimal_pca.fit(pca_data)\n",
    "\n",
    "# Add the cluster labels to the original data\n",
    "data['Cluster_PCA'] = kmeans_optimal_pca.labels_\n",
    "\n",
    "# Evaluate the final clustering for PCA data\n",
    "final_inertia_pca = kmeans_optimal_pca.inertia_\n",
    "final_silhouette_score_pca = silhouette_score(pca_data, kmeans_optimal_pca.labels_)\n",
    "final_davies_bouldin_score_pca = davies_bouldin_score(pca_data, kmeans_optimal_pca.labels_)\n",
    "final_calinski_harabasz_score_pca = calinski_harabasz_score(pca_data, kmeans_optimal_pca.labels_)\n",
    "\n",
    "print(f\"Final Inertia (PCA): {final_inertia_pca}\")\n",
    "print(f\"Final Silhouette Score (PCA): {final_silhouette_score_pca}\")\n",
    "print(f\"Final Davies-Bouldin Index (PCA): {final_davies_bouldin_score_pca}\")\n",
    "print(f\"Final Calinski-Harabasz Index (PCA): {final_calinski_harabasz_score_pca}\")\n"
   ]
  },
  {
   "cell_type": "code",
   "execution_count": null,
   "metadata": {},
   "outputs": [],
   "source": []
  },
  {
   "cell_type": "code",
   "execution_count": null,
   "metadata": {},
   "outputs": [],
   "source": []
  },
  {
   "cell_type": "code",
   "execution_count": null,
   "metadata": {},
   "outputs": [],
   "source": []
  }
 ],
 "metadata": {
  "colab": {
   "provenance": []
  },
  "kernelspec": {
   "display_name": "Python 3 (ipykernel)",
   "language": "python",
   "name": "python3"
  },
  "language_info": {
   "codemirror_mode": {
    "name": "ipython",
    "version": 3
   },
   "file_extension": ".py",
   "mimetype": "text/x-python",
   "name": "python",
   "nbconvert_exporter": "python",
   "pygments_lexer": "ipython3",
   "version": "3.11.7"
  }
 },
 "nbformat": 4,
 "nbformat_minor": 4
}
